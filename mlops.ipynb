{
 "cells": [
  {
   "cell_type": "code",
   "execution_count": null,
   "id": "oriental-feedback",
   "metadata": {},
   "outputs": [],
   "source": [
    "import yaml\n",
    "import dill\n",
    "import numpy as np\n",
    "import pandas as pd\n",
    "import urllib.request\n",
    "import altair as alt\n",
    "from multiprocessing import Pool"
   ]
  },
  {
   "cell_type": "markdown",
   "id": "contemporary-strand",
   "metadata": {},
   "source": [
    "# Load Data"
   ]
  },
  {
   "cell_type": "code",
   "execution_count": null,
   "id": "billion-discovery",
   "metadata": {},
   "outputs": [],
   "source": [
    "with open('./beta.yaml') as file:\n",
    "    Beta = yaml.load(file, Loader=yaml.UnsafeLoader)\n",
    "with open('./theta.yaml') as file:\n",
    "    Theta = yaml.load(file, Loader=yaml.UnsafeLoader)"
   ]
  },
  {
   "cell_type": "markdown",
   "id": "toxic-sampling",
   "metadata": {},
   "source": [
    "# Load Model"
   ]
  },
  {
   "cell_type": "code",
   "execution_count": null,
   "id": "raised-sleeping",
   "metadata": {},
   "outputs": [],
   "source": [
    "with open('./model.pkl', 'rb') as file:\n",
    "    BayesGP = dill.load(file)\n",
    "\n",
    "def f(X):\n",
    "    P = dict()\n",
    "    for i, s in X.iterrows():\n",
    "        px = tuple(\n",
    "            s[s != 0].sort_values(\n",
    "                ascending=False\n",
    "            ).head(5).index)\n",
    "        if px in P.keys():\n",
    "            P[px] += 1\n",
    "        else:\n",
    "            P.update({px: 1})\n",
    "    return len(P)\n",
    "\n",
    "\n",
    "def score(args):\n",
    "    i, k = args\n",
    "    X = BayesGP(Beta[k], Theta[i]['theta'])\n",
    "    return {(i, k): f(X)}"
   ]
  },
  {
   "cell_type": "markdown",
   "id": "awful-stupid",
   "metadata": {},
   "source": [
    "# Training"
   ]
  },
  {
   "cell_type": "code",
   "execution_count": null,
   "id": "matched-western",
   "metadata": {},
   "outputs": [],
   "source": [
    "results = {}\n",
    "\n",
    "with Pool(processes=16) as pool: \n",
    "\n",
    "    for result in pool.imap_unordered(\n",
    "        score, ((i, k) for i in Theta for k in Beta)):\n",
    "        key = next(iter(result))\n",
    "        print(f'Sim. Id: {key}, score={result[key]}')\n",
    "        results.update(result)\n",
    "\n",
    "with open('./results.yaml', 'w') as file:\n",
    "    yaml.dump(results, file)"
   ]
  },
  {
   "cell_type": "markdown",
   "id": "russian-mistake",
   "metadata": {},
   "source": [
    "# Results"
   ]
  },
  {
   "cell_type": "code",
   "execution_count": null,
   "id": "humanitarian-henry",
   "metadata": {},
   "outputs": [],
   "source": [
    "with open('./results.yaml') as file:\n",
    "    results = yaml.load(file, Loader=yaml.UnsafeLoader)"
   ]
  },
  {
   "cell_type": "code",
   "execution_count": null,
   "id": "forward-decline",
   "metadata": {},
   "outputs": [],
   "source": [
    "alt.Chart(pd.DataFrame([[*k, results[k]] for k in results], columns=['Theta', 'k', 'score'])).mark_point().encode(x='k', y='score', color='Theta:N', tooltip=['score'])"
   ]
  }
 ],
 "metadata": {
  "kernelspec": {
   "display_name": "Python 3.8.7",
   "language": "python",
   "name": "py387"
  },
  "language_info": {
   "codemirror_mode": {
    "name": "ipython",
    "version": 3
   },
   "file_extension": ".py",
   "mimetype": "text/x-python",
   "name": "python",
   "nbconvert_exporter": "python",
   "pygments_lexer": "ipython3",
   "version": "3.8.7"
  },
  "widgets": {
   "application/vnd.jupyter.widget-state+json": {
    "state": {},
    "version_major": 2,
    "version_minor": 0
   }
  }
 },
 "nbformat": 4,
 "nbformat_minor": 5
}
